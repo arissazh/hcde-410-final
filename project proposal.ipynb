{
 "cells": [
  {
   "cell_type": "markdown",
   "id": "8f683b79-fb97-4a43-bab0-ff6f77ea6cd7",
   "metadata": {},
   "source": [
    "## HCDE 410 Final Project Preliminary Proposal ##"
   ]
  },
  {
   "cell_type": "markdown",
   "id": "53cc579a-4c89-47f7-a4ad-e2e5eedb7f5d",
   "metadata": {
    "tags": []
   },
   "source": [
    "### Motivation and problem statement ###\n",
    "**Why are you planning to do this analysis?**\n",
    "\n",
    "I plan to analyze airline and airport operation data, as I find traveling pretty interesting. I never really thought about how many people travel through different places, and how busy airports actually are on a daily basis. I plan to compare SeaTac Airport operations to national data on immigration and TSA operations to find out how SeaTac may compare to other airports.\n",
    "\n",
    "**Why is it potentially interesting and useful, from a scientific, practical, and/or human-centered perspective?**\n",
    "\n",
    "Especially in the last two years, where travel was heavily impacted due to COVID-19, I think it would be interesting to see how air travel operations were impacted, especially in Seattle (a busy port). Because traveling has become such a popular and important part of a lot of people's lives and interests, analyzing data about airport and airline operations can help us understand human travel behavior and trends; knowing when people tend to travel, where, etc.\n",
    "\n",
    "**What do you hope to learn?**\n",
    "\n",
    "Based on prior knowledge, I know that Seattle is a busy port of entry. I hope to learn more about the patterns of travel for people so I can consider that next time I go to the airport. \n",
    "\n",
    "### Research Questions ###\n",
    "1. When is the best (least busy) time to travel through SeaTac airport? \n",
    "2. How has the COVID-19 pandemic impacted travel operations through SeaTac airport?\n",
    "3. How does SeaTac airport compare to other airports nationwide?\n",
    "\n",
    "### Background ###\n",
    "A lot of current research on SeaTac airport is information from information provided by the government, or is focused on economic and environmental impact of the airport operations. For example, a study conducted by faculty in UW's Department of Civil & Environmental Engineering found that neighborhoods surrounding the airport are affected by ultrafine particles of air pollution directly caused by airplane operations (https://deohs.washington.edu/mov-up?_ga=2.33803617.170507914.1652679812-585657135.1625191866).\n",
    "\n",
    "Other similar studies focus on a general effect on airports all over the nation, and tend to focus on the economic losses. A study conducted by Hotle (2021) found that domestic departures in the US declined by 71.5% in May 2020 compared to the previous year (https://doi.org/10.1016/j.trip.2020.100277). This study uses data also provides possible datasets that may be useful for reference in my analysis (https://www.transtats.bts.gov/). \n",
    "\n",
    "Because many prior studies focus on nation-wide impacts, I want to focus *specifically* on SeaTac airport, with more insight on specific operations at the airport (TSA, number of flights, etc.) while still considering the impacts of COVID-19 on airports beyond just the economy. I also want to be able to apply these findings to be useful to our everyday lives--finding out when might be the best time to travel.  \n",
    "\n",
    "### Data selected for analysis ###\n",
    "**What dataset do you plan to use, and why? Summarize what is represented in the dataset**\n",
    "\n",
    "I have two datasets to use currently: one from the Port of Seattle, which the weekly operation numbers (such as TSA screening counts and number of flights) at SeaTac airport from 2019-2022. \n",
    "During class, I received feedback from my peers to look at a national database with flight information, which I could use to compare to data about SeaTac's operations. The other dataset is from the USDOT Bureau of Transportation, which shares the number of departure flights (both domestic and international) for each day out of the US, from 2019-2022.\n",
    "\n",
    "**Link to the dataset (it must be publicly available)**\n",
    "\n",
    "Number of people or flights through SeaTac aiport by week 2019-2022\n",
    "https://docs.google.com/spreadsheets/d/1N1RQ85hr3C5TQA-akJvucdtECftx_AmNGWwKsnKCltg/edit#gid=0\n",
    "\n",
    "Commercial Aviation Departures--number of departures/people screened on a certain date\n",
    "https://data.bts.gov/Aviation/Commercial-Aviation-Departures-and-TSA-Screenings-/hvq3-38u5\n",
    "\n",
    "**Specify license and/or terms of use for the data**\n",
    "\n",
    "This is all open public data from the USDOT Bureau of Transportation Statistics and the Port of Seattle. \n",
    "\n",
    "**Explain why this dataset is a suitable one for addressing your research goal listed above**\n",
    "\n",
    "Because I want to research how COVID impacted airport operations, both datasets ranging from the beginning of 2019 to 2022 provide a good comparison of pre-, peri-, and post-COVID. My focus is on SeaTac, so also using a dataset with information on nation-wide departures would provide a good comparison and reference to how busy SeaTac airport was as a fraction of all arrival destinations in the US. It would also be useful to graph the data and see if decline in travels occured at the same time for Seattle and the rest of the nation. \n",
    "\n",
    "**Highlight any possible ethical considerations to using this dataset**\n",
    "\n",
    "I don't think there are any ethical concerns, as flight and airport data are already publicly available. The data in these sets is generally only numbers of people and has no tie to personally identifying information. \n",
    "\n",
    "### Methodology ###\n",
    "**Analytical Methods**\n",
    "\n",
    "I will be conducting a statistical analysis, similar to A1 and A2 by comparing values in the SeaTac to identify what time of year is the least busy operation-wise, since the answer to my first research question should be a time-frame range. The SeaTac operations dataset includes operation numbers by week, so by using calculations such as in previous assignments, I can find a time frame that has the least number of operations.  \n",
    "\n",
    "I can also use this same strategy to calculate how operations may have declined throughout the COVID-19 pandemic--finding a numeric value for the decrease and a percentage compared to the previous year and pre-COVID. The dataset for departures nation-wide by date can also be converted to a weekly-basis, and then calculated to find a decrease and decline in operations. Using this data, I will use a t-test to compare national operations to SeaTac operations, and national decrease to SeaTac's decrease, and assess if they are significantly and/or similarly affected by the pandemic.  \n",
    "\n",
    "**Data Visualization**\n",
    "\n",
    "I plan to use bar graphs to illustrate comparisons between SeaTac and national airport operations, as well as for how SeaTac's operation numbers may have changed through the COVID-19 pandemic. I believe the bar graph can best show the differences between  two criteria with different rectangle sizes, and providing a side-by-side placement allows direct comparison of the two values. For comparing Seattle and country airport operations, it would be easy to visualize how in Seattle's airport operations might increase or decrease proportion to the entire country.  \n",
    "\n",
    "For busiest times of the year at SeaTac, I plan to use a line graph with the y-axis being the number of people, and x-axis being time of year. A line graph can highlight the busiest and least busy times of year through peaks and lowest points, which is an easy visualization for audience. \n",
    "\n",
    "### Unknowns and dependencies ###\n",
    "**Are there any factors outside of your control that might impact your ability to complete this project by the end of the quarter?**\n",
    "\n",
    "I've been struggling finding a good *single* dataset with information on incoming/outgoing flights at SeaTac airport, thus resulting in me having to use multiple datasets for different information--I'm not quite sure how this data will align and being able to consolidate them to conduct my research. \n"
   ]
  },
  {
   "cell_type": "code",
   "execution_count": null,
   "id": "f2696b75-453f-4ecb-931f-fb77bed84454",
   "metadata": {},
   "outputs": [],
   "source": []
  }
 ],
 "metadata": {
  "kernelspec": {
   "display_name": "Python 3 (ipykernel)",
   "language": "python",
   "name": "python3"
  },
  "language_info": {
   "codemirror_mode": {
    "name": "ipython",
    "version": 3
   },
   "file_extension": ".py",
   "mimetype": "text/x-python",
   "name": "python",
   "nbconvert_exporter": "python",
   "pygments_lexer": "ipython3",
   "version": "3.9.7"
  }
 },
 "nbformat": 4,
 "nbformat_minor": 5
}
